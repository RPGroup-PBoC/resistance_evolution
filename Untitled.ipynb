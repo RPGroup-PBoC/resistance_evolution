{
 "cells": [
  {
   "cell_type": "code",
   "execution_count": 1,
   "id": "9216177b-a911-4428-8d35-10bb5a488760",
   "metadata": {},
   "outputs": [],
   "source": [
    "using Colors"
   ]
  },
  {
   "cell_type": "code",
   "execution_count": 38,
   "id": "6c2d9134-a18b-4b52-b3e0-1c985e1f506d",
   "metadata": {},
   "outputs": [
    {
     "data": {
      "image/svg+xml": [
       "<?xml version=\"1.0\" encoding=\"UTF-8\"?>\n",
       "<!DOCTYPE svg PUBLIC \"-//W3C//DTD SVG 1.1//EN\"\n",
       " \"http://www.w3.org/Graphics/SVG/1.1/DTD/svg11.dtd\">\n",
       "<svg xmlns=\"http://www.w3.org/2000/svg\" version=\"1.1\"\n",
       "     width=\"180mm\" height=\"25mm\"\n",
       "     viewBox=\"0 0 11 1\" preserveAspectRatio=\"none\"\n",
       "     shape-rendering=\"crispEdges\" stroke=\"none\">\n",
       "<rect width=\".94\" height=\".96\" x=\"0\" y=\"0\" fill=\"#FFFFFF\" />\n",
       "<rect width=\".94\" height=\".96\" x=\"1\" y=\"0\" fill=\"#D9FCCF\" />\n",
       "<rect width=\".94\" height=\".96\" x=\"2\" y=\"0\" fill=\"#BBF3A9\" />\n",
       "<rect width=\".94\" height=\".96\" x=\"3\" y=\"0\" fill=\"#A0E487\" />\n",
       "<rect width=\".94\" height=\".96\" x=\"4\" y=\"0\" fill=\"#87D269\" />\n",
       "<rect width=\".94\" height=\".96\" x=\"5\" y=\"0\" fill=\"#70BB4F\" />\n",
       "<rect width=\".94\" height=\".96\" x=\"6\" y=\"0\" fill=\"#5A9F38\" />\n",
       "<rect width=\".94\" height=\".96\" x=\"7\" y=\"0\" fill=\"#448023\" />\n",
       "<rect width=\".94\" height=\".96\" x=\"8\" y=\"0\" fill=\"#2D5C10\" />\n",
       "<rect width=\".94\" height=\".96\" x=\"9\" y=\"0\" fill=\"#153403\" />\n",
       "<rect width=\".94\" height=\".96\" x=\"10\" y=\"0\" fill=\"#000000\" />\n",
       "</svg>"
      ],
      "text/plain": [
       "11-element Array{RGB{Float64},1} with eltype RGB{Float64}:\n",
       " RGB{Float64}(1.0,0.9999999843772079,0.9999999986434464)\n",
       " RGB{Float64}(0.8514475943159361,0.989751096983183,0.8111148548648194)\n",
       " RGB{Float64}(0.7334970045216574,0.9521203078083272,0.6621184735369826)\n",
       " RGB{Float64}(0.6283914526877392,0.8959323268188786,0.5310957363118298)\n",
       " RGB{Float64}(0.5313338240005467,0.8227483665345716,0.41352017998356894)\n",
       " RGB{Float64}(0.4409815756333904,0.732394780628913,0.3109789020347667)\n",
       " RGB{Float64}(0.35345854092596246,0.6250105301372784,0.22054550551970792)\n",
       " RGB{Float64}(0.2650708509996476,0.50073292932076,0.13796697616836787)\n",
       " RGB{Float64}(0.174844812844947,0.3599438154424502,0.06324845886436209)\n",
       " RGB{Float64}(0.08375527514902878,0.20500154426690592,0.010379829515650543)\n",
       " RGB{Float64}(0.0,0.0,0.0)"
      ]
     },
     "execution_count": 38,
     "metadata": {},
     "output_type": "execute_result"
    }
   ],
   "source": [
    "Colors.sequential_palette(rand(1:360), 11, w=0, c=1)"
   ]
  },
  {
   "cell_type": "code",
   "execution_count": 26,
   "id": "6a49cbd7-55ad-4650-8a95-706b85c1a305",
   "metadata": {},
   "outputs": [
    {
     "data": {
      "text/latex": [
       "\\begin{verbatim}\n",
       "sequential_palette(h, N::Int=100; <keyword arguments>)\n",
       "\\end{verbatim}\n",
       "Implements the color palette creation technique by \\href{http://magnaview.nl/documents/MagnaView-M_Wijffelaars-Generating_color_palettes_using_intuitive_parameters.pdf}{Wijffelaars, M., et al. (2008)}.\n",
       "\n",
       "Colormaps are formed using Bézier curves in LCHuv colorspace with some constant hue. In addition, start and end points can be given that are then blended to the original hue smoothly.\n",
       "\n",
       "\\section{Arguments}\n",
       "\\begin{itemize}\n",
       "\\item N        - number of colors\n",
       "\n",
       "\n",
       "\\item h        - the main hue [0,360]\n",
       "\n",
       "\n",
       "\\item c        - the overall lightness contrast [0,1]\n",
       "\n",
       "\n",
       "\\item s        - saturation [0,1]\n",
       "\n",
       "\n",
       "\\item b        - brightness [0,1]\n",
       "\n",
       "\n",
       "\\item w        - cold/warm parameter, i.e. the strength of the starting color [0,1]\n",
       "\n",
       "\n",
       "\\item d        - depth of the ending color [0,1]\n",
       "\n",
       "\n",
       "\\item wcolor   - starting color (warmness)\n",
       "\n",
       "\n",
       "\\item dcolor   - ending color (depth)\n",
       "\n",
       "\n",
       "\\item logscale - true/false for toggling logspacing\n",
       "\n",
       "\\end{itemize}\n"
      ],
      "text/markdown": [
       "```\n",
       "sequential_palette(h, N::Int=100; <keyword arguments>)\n",
       "```\n",
       "\n",
       "Implements the color palette creation technique by [Wijffelaars, M., et al. (2008)](http://magnaview.nl/documents/MagnaView-M_Wijffelaars-Generating_color_palettes_using_intuitive_parameters.pdf).\n",
       "\n",
       "Colormaps are formed using Bézier curves in LCHuv colorspace with some constant hue. In addition, start and end points can be given that are then blended to the original hue smoothly.\n",
       "\n",
       "# Arguments\n",
       "\n",
       "  * N        - number of colors\n",
       "  * h        - the main hue [0,360]\n",
       "  * c        - the overall lightness contrast [0,1]\n",
       "  * s        - saturation [0,1]\n",
       "  * b        - brightness [0,1]\n",
       "  * w        - cold/warm parameter, i.e. the strength of the starting color [0,1]\n",
       "  * d        - depth of the ending color [0,1]\n",
       "  * wcolor   - starting color (warmness)\n",
       "  * dcolor   - ending color (depth)\n",
       "  * logscale - true/false for toggling logspacing\n"
      ],
      "text/plain": [
       "\u001b[36m  sequential_palette(h, N::Int=100; <keyword arguments>)\u001b[39m\n",
       "\n",
       "  Implements the color palette creation technique by Wijffelaars, M., et al.\n",
       "  (2008)\n",
       "  (http://magnaview.nl/documents/MagnaView-M_Wijffelaars-Generating_color_palettes_using_intuitive_parameters.pdf).\n",
       "\n",
       "  Colormaps are formed using Bézier curves in LCHuv colorspace with some\n",
       "  constant hue. In addition, start and end points can be given that are then\n",
       "  blended to the original hue smoothly.\n",
       "\n",
       "\u001b[1m  Arguments\u001b[22m\n",
       "\u001b[1m  ≡≡≡≡≡≡≡≡≡≡≡\u001b[22m\n",
       "\n",
       "    •  N - number of colors\n",
       "\n",
       "    •  h - the main hue [0,360]\n",
       "\n",
       "    •  c - the overall lightness contrast [0,1]\n",
       "\n",
       "    •  s - saturation [0,1]\n",
       "\n",
       "    •  b - brightness [0,1]\n",
       "\n",
       "    •  w - cold/warm parameter, i.e. the strength of the starting color\n",
       "       [0,1]\n",
       "\n",
       "    •  d - depth of the ending color [0,1]\n",
       "\n",
       "    •  wcolor - starting color (warmness)\n",
       "\n",
       "    •  dcolor - ending color (depth)\n",
       "\n",
       "    •  logscale - true/false for toggling logspacing"
      ]
     },
     "execution_count": 26,
     "metadata": {},
     "output_type": "execute_result"
    }
   ],
   "source": [
    "?Colors.sequential_palette"
   ]
  },
  {
   "cell_type": "code",
   "execution_count": null,
   "id": "d12db995-62c7-41ef-9308-a509713cbbe9",
   "metadata": {},
   "outputs": [],
   "source": []
  }
 ],
 "metadata": {
  "kernelspec": {
   "display_name": "Julia 1.8.0-rc1",
   "language": "julia",
   "name": "julia-1.8"
  },
  "language_info": {
   "file_extension": ".jl",
   "mimetype": "application/julia",
   "name": "julia",
   "version": "1.8.0"
  }
 },
 "nbformat": 4,
 "nbformat_minor": 5
}
