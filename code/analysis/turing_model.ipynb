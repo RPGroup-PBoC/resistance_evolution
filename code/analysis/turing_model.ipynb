{
 "cells": [
  {
   "cell_type": "markdown",
   "id": "8ccb822e-296f-426c-959c-11be781a6ce6",
   "metadata": {},
   "source": [
    "# Tetracycline Resistance Model"
   ]
  },
  {
   "cell_type": "markdown",
   "id": "f71b51fb-f313-4d53-8755-213680c3db0d",
   "metadata": {},
   "source": [
    "(c) 2022 Tom Röschinger. This work is licensed under a \n",
    "[Creative Commons Attribution License CC-BY 4.0](https://creativecommons.org/licenses/by/4.0/). \n",
    "All code contained herein is licensed under an \n",
    "[MIT license](https://opensource.org/licenses/MIT)."
   ]
  },
  {
   "cell_type": "code",
   "execution_count": 2,
   "id": "a1b8fd92-1cd7-4972-9c9e-5c1fe66ddebe",
   "metadata": {},
   "outputs": [
    {
     "name": "stderr",
     "output_type": "stream",
     "text": [
      "┌ Warning: SIMD capacity not detected by ScanByte, using scalar fallback\n",
      "└ @ ScanByte /Users/tomroeschinger/.julia/packages/ScanByte/cr4PT/src/ScanByte.jl:11\n"
     ]
    }
   ],
   "source": [
    "using SymPy, Polynomials, ColorSchemes, Turing, Distributions, LinearAlgebra, resistance_evolution, ForwardDiff, CairoMakie, CSV, DataFrames\n",
    "\n",
    "resistance_evolution.plotting_style.default_makie!()\n",
    "CairoMakie.activate!()\n"
   ]
  },
  {
   "cell_type": "markdown",
   "id": "fd8ca2ab-5edf-41d8-b0a2-9f0438dff58d",
   "metadata": {},
   "source": [
    "In this notebook we go through everything bla bla"
   ]
  },
  {
   "cell_type": "code",
   "execution_count": 3,
   "id": "c04d93f6-a8f4-4d5e-b462-c9d07ae7c42f",
   "metadata": {},
   "outputs": [
    {
     "data": {
      "text/plain": [
       "(a, λ, λ_0, κ_t, K_d, Δr, j, V_0, a_ex, K_M, P_out, P_in)"
      ]
     },
     "execution_count": 3,
     "metadata": {},
     "output_type": "execute_result"
    }
   ],
   "source": [
    "@syms a λ λ_0 κ_t K_d Δr j V_0 a_ex K_M P_out P_in"
   ]
  },
  {
   "cell_type": "code",
   "execution_count": 4,
   "id": "febf9ac8-498c-44c9-828e-c4bcb2480907",
   "metadata": {},
   "outputs": [
    {
     "data": {
      "text/latex": [
       "$- Δr \\left(- \\frac{λ}{λ_{0}} + 1\\right) + \\frac{a λ}{K_{d} κ_{t}}$"
      ],
      "text/plain": [
       "     ⎛  λ     ⎞    a⋅λ  \n",
       "- Δr⋅⎜- ── + 1⎟ + ──────\n",
       "     ⎝  λ₀    ⎠   K_d⋅κₜ"
      ]
     },
     "execution_count": 4,
     "metadata": {},
     "output_type": "execute_result"
    }
   ],
   "source": [
    "eq1 = (a * λ) / (κ_t * K_d) - Δr * (1 - λ/λ_0)"
   ]
  },
  {
   "cell_type": "code",
   "execution_count": 5,
   "id": "dbdb7624-c4af-494d-99f1-d8dc5ea7b303",
   "metadata": {},
   "outputs": [
    {
     "data": {
      "text/latex": [
       "$K_{M} P_{in} a_{ex} + a^{2} \\left(- P_{out} - λ\\right) + a \\left(- K_{M} P_{out} - K_{M} λ + P_{in} a_{ex} - \\frac{V_{0} λ}{λ_{0}}\\right)$"
      ],
      "text/plain": [
       "               2                 ⎛                              V₀⋅λ⎞\n",
       "K_M⋅Pᵢₙ⋅aₑₓ + a ⋅(-Pₒᵤₜ - λ) + a⋅⎜-K_M⋅Pₒᵤₜ - K_M⋅λ + Pᵢₙ⋅aₑₓ - ────⎟\n",
       "                                 ⎝                               λ₀ ⎠"
      ]
     },
     "execution_count": 5,
     "metadata": {},
     "output_type": "execute_result"
    }
   ],
   "source": [
    "eq2 = a^2 * (-λ - P_out) + a * (-λ * K_M  + P_in * a_ex - P_out * K_M - V_0 * λ/λ_0 ) + P_in * a_ex * K_M"
   ]
  },
  {
   "cell_type": "code",
   "execution_count": 6,
   "id": "2aa1f909-54e0-4065-8d74-9bdc88197a5c",
   "metadata": {},
   "outputs": [
    {
     "data": {
      "text/latex": [
       "$\\frac{K_{d} Δr κ_{t} \\left(- λ + λ_{0}\\right)}{λ λ_{0}}$"
      ],
      "text/plain": [
       "K_d⋅Δr⋅κₜ⋅(-λ + λ₀)\n",
       "───────────────────\n",
       "        λ⋅λ₀       "
      ]
     },
     "execution_count": 6,
     "metadata": {},
     "output_type": "execute_result"
    }
   ],
   "source": [
    "expr1 = solve(eq1, a)[1]"
   ]
  },
  {
   "cell_type": "code",
   "execution_count": 7,
   "id": "3be1138e-c9ef-4d09-a1ee-aec4e4cf4ad6",
   "metadata": {},
   "outputs": [
    {
     "data": {
      "text/latex": [
       "$K_{M} P_{in} a_{ex} + \\frac{K_{d}^{2} Δr^{2} κ_{t}^{2} \\left(- P_{out} - λ\\right) \\left(- λ + λ_{0}\\right)^{2}}{λ^{2} λ_{0}^{2}} + \\frac{K_{d} Δr κ_{t} \\left(- λ + λ_{0}\\right) \\left(- K_{M} P_{out} - K_{M} λ + P_{in} a_{ex} - \\frac{V_{0} λ}{λ_{0}}\\right)}{λ λ_{0}}$"
      ],
      "text/plain": [
       "                                                                        ⎛     \n",
       "                 2   2   2                      2   K_d⋅Δr⋅κₜ⋅(-λ + λ₀)⋅⎜-K_M⋅\n",
       "              K_d ⋅Δr ⋅κₜ ⋅(-Pₒᵤₜ - λ)⋅(-λ + λ₀)                        ⎝     \n",
       "K_M⋅Pᵢₙ⋅aₑₓ + ─────────────────────────────────── + ──────────────────────────\n",
       "                              2   2                                           \n",
       "                             λ ⋅λ₀                                            \n",
       "\n",
       "                         V₀⋅λ⎞\n",
       "Pₒᵤₜ - K_M⋅λ + Pᵢₙ⋅aₑₓ - ────⎟\n",
       "                          λ₀ ⎠\n",
       "──────────────────────────────\n",
       "λ⋅λ₀                          \n",
       "                              "
      ]
     },
     "execution_count": 7,
     "metadata": {},
     "output_type": "execute_result"
    }
   ],
   "source": [
    "expr2 = subs(eq2, a=>expr1)"
   ]
  },
  {
   "cell_type": "code",
   "execution_count": 8,
   "id": "c013e50e-0092-4bf1-910d-b54751b21aa1",
   "metadata": {},
   "outputs": [
    {
     "data": {
      "text/latex": [
       "$λ^{2} λ_{0}^{2} \\left(K_{M} P_{in} a_{ex} + \\frac{K_{d}^{2} Δr^{2} κ_{t}^{2} \\left(- P_{out} - λ\\right) \\left(- λ + λ_{0}\\right)^{2}}{λ^{2} λ_{0}^{2}} + \\frac{K_{d} Δr κ_{t} \\left(- λ + λ_{0}\\right) \\left(- K_{M} P_{out} - K_{M} λ + P_{in} a_{ex} - \\frac{V_{0} λ}{λ_{0}}\\right)}{λ λ_{0}}\\right)$"
      ],
      "text/plain": [
       "       ⎛                                                                      \n",
       "       ⎜                 2   2   2                      2   K_d⋅Δr⋅κₜ⋅(-λ + λ₀\n",
       " 2   2 ⎜              K_d ⋅Δr ⋅κₜ ⋅(-Pₒᵤₜ - λ)⋅(-λ + λ₀)                      \n",
       "λ ⋅λ₀ ⋅⎜K_M⋅Pᵢₙ⋅aₑₓ + ─────────────────────────────────── + ──────────────────\n",
       "       ⎜                              2   2                                   \n",
       "       ⎝                             λ ⋅λ₀                                    \n",
       "\n",
       "  ⎛                              V₀⋅λ⎞⎞\n",
       ")⋅⎜-K_M⋅Pₒᵤₜ - K_M⋅λ + Pᵢₙ⋅aₑₓ - ────⎟⎟\n",
       "  ⎝                               λ₀ ⎠⎟\n",
       "──────────────────────────────────────⎟\n",
       "        λ⋅λ₀                          ⎟\n",
       "                                      ⎠"
      ]
     },
     "execution_count": 8,
     "metadata": {},
     "output_type": "execute_result"
    }
   ],
   "source": [
    "expr3 = expr2 * λ^2 * λ_0^2"
   ]
  },
  {
   "cell_type": "code",
   "execution_count": 9,
   "id": "7b591a88-cfab-4ebe-9bf3-b13e6e50be4c",
   "metadata": {},
   "outputs": [
    {
     "data": {
      "text/latex": [
       "$K_{M} K_{d} P_{out} Δr κ_{t} λ^{2} λ_{0} - K_{M} K_{d} P_{out} Δr κ_{t} λ λ_{0}^{2} + K_{M} K_{d} Δr κ_{t} λ^{3} λ_{0} - K_{M} K_{d} Δr κ_{t} λ^{2} λ_{0}^{2} + K_{M} P_{in} a_{ex} λ^{2} λ_{0}^{2} - K_{d}^{2} P_{out} Δr^{2} κ_{t}^{2} λ^{2} + 2 K_{d}^{2} P_{out} Δr^{2} κ_{t}^{2} λ λ_{0} - K_{d}^{2} P_{out} Δr^{2} κ_{t}^{2} λ_{0}^{2} - K_{d}^{2} Δr^{2} κ_{t}^{2} λ^{3} + 2 K_{d}^{2} Δr^{2} κ_{t}^{2} λ^{2} λ_{0} - K_{d}^{2} Δr^{2} κ_{t}^{2} λ λ_{0}^{2} - K_{d} P_{in} a_{ex} Δr κ_{t} λ^{2} λ_{0} + K_{d} P_{in} a_{ex} Δr κ_{t} λ λ_{0}^{2} + K_{d} V_{0} Δr κ_{t} λ^{3} - K_{d} V_{0} Δr κ_{t} λ^{2} λ_{0}$"
      ],
      "text/plain": [
       "                    2                             2                  3        \n",
       "K_M⋅K_d⋅Pₒᵤₜ⋅Δr⋅κₜ⋅λ ⋅λ₀ - K_M⋅K_d⋅Pₒᵤₜ⋅Δr⋅κₜ⋅λ⋅λ₀  + K_M⋅K_d⋅Δr⋅κₜ⋅λ ⋅λ₀ - K_\n",
       "\n",
       "             2   2                2   2      2        2   2  2        2       \n",
       "M⋅K_d⋅Δr⋅κₜ⋅λ ⋅λ₀  + K_M⋅Pᵢₙ⋅aₑₓ⋅λ ⋅λ₀  - K_d ⋅Pₒᵤₜ⋅Δr ⋅κₜ ⋅λ  + 2⋅K_d ⋅Pₒᵤₜ⋅Δ\n",
       "\n",
       " 2   2           2        2   2   2      2   2   2  3        2   2   2  2     \n",
       "r ⋅κₜ ⋅λ⋅λ₀ - K_d ⋅Pₒᵤₜ⋅Δr ⋅κₜ ⋅λ₀  - K_d ⋅Δr ⋅κₜ ⋅λ  + 2⋅K_d ⋅Δr ⋅κₜ ⋅λ ⋅λ₀ -\n",
       "\n",
       "    2   2   2     2                      2                            2       \n",
       " K_d ⋅Δr ⋅κₜ ⋅λ⋅λ₀  - K_d⋅Pᵢₙ⋅aₑₓ⋅Δr⋅κₜ⋅λ ⋅λ₀ + K_d⋅Pᵢₙ⋅aₑₓ⋅Δr⋅κₜ⋅λ⋅λ₀  + K_d⋅\n",
       "\n",
       "          3                 2   \n",
       "V₀⋅Δr⋅κₜ⋅λ  - K_d⋅V₀⋅Δr⋅κₜ⋅λ ⋅λ₀"
      ]
     },
     "execution_count": 9,
     "metadata": {},
     "output_type": "execute_result"
    }
   ],
   "source": [
    "expr4 = factor(expr3)"
   ]
  },
  {
   "cell_type": "code",
   "execution_count": 10,
   "id": "6b245d82-2d91-4a63-9dfb-7ca833aadf29",
   "metadata": {},
   "outputs": [
    {
     "data": {
      "text/latex": [
       "$- K_{d}^{2} P_{out} Δr^{2} κ_{t}^{2} λ_{0}^{2} + λ^{3} \\left(K_{M} K_{d} Δr κ_{t} λ_{0} - K_{d}^{2} Δr^{2} κ_{t}^{2} + K_{d} V_{0} Δr κ_{t}\\right) + λ^{2} \\left(K_{M} K_{d} P_{out} Δr κ_{t} λ_{0} - K_{M} K_{d} Δr κ_{t} λ_{0}^{2} + K_{M} P_{in} a_{ex} λ_{0}^{2} - K_{d}^{2} P_{out} Δr^{2} κ_{t}^{2} + 2 K_{d}^{2} Δr^{2} κ_{t}^{2} λ_{0} - K_{d} P_{in} a_{ex} Δr κ_{t} λ_{0} - K_{d} V_{0} Δr κ_{t} λ_{0}\\right) + λ \\left(- K_{M} K_{d} P_{out} Δr κ_{t} λ_{0}^{2} + 2 K_{d}^{2} P_{out} Δr^{2} κ_{t}^{2} λ_{0} - K_{d}^{2} Δr^{2} κ_{t}^{2} λ_{0}^{2} + K_{d} P_{in} a_{ex} Δr κ_{t} λ_{0}^{2}\\right)$"
      ],
      "text/plain": [
       "     2        2   2   2    3 ⎛                      2   2   2               ⎞ \n",
       "- K_d ⋅Pₒᵤₜ⋅Δr ⋅κₜ ⋅λ₀  + λ ⋅⎝K_M⋅K_d⋅Δr⋅κₜ⋅λ₀ - K_d ⋅Δr ⋅κₜ  + K_d⋅V₀⋅Δr⋅κₜ⎠ \n",
       "\n",
       "   2 ⎛                                        2                 2      2      \n",
       "+ λ ⋅⎝K_M⋅K_d⋅Pₒᵤₜ⋅Δr⋅κₜ⋅λ₀ - K_M⋅K_d⋅Δr⋅κₜ⋅λ₀  + K_M⋅Pᵢₙ⋅aₑₓ⋅λ₀  - K_d ⋅Pₒᵤₜ⋅\n",
       "\n",
       "  2   2        2   2   2                                            ⎞     ⎛   \n",
       "Δr ⋅κₜ  + 2⋅K_d ⋅Δr ⋅κₜ ⋅λ₀ - K_d⋅Pᵢₙ⋅aₑₓ⋅Δr⋅κₜ⋅λ₀ - K_d⋅V₀⋅Δr⋅κₜ⋅λ₀⎠ + λ⋅⎝- K\n",
       "\n",
       "                    2        2        2   2         2   2   2   2             \n",
       "_M⋅K_d⋅Pₒᵤₜ⋅Δr⋅κₜ⋅λ₀  + 2⋅K_d ⋅Pₒᵤₜ⋅Δr ⋅κₜ ⋅λ₀ - K_d ⋅Δr ⋅κₜ ⋅λ₀  + K_d⋅Pᵢₙ⋅aₑ\n",
       "\n",
       "          2⎞\n",
       "ₓ⋅Δr⋅κₜ⋅λ₀ ⎠"
      ]
     },
     "execution_count": 10,
     "metadata": {},
     "output_type": "execute_result"
    }
   ],
   "source": [
    "expr5 = collect(expr4, λ)"
   ]
  },
  {
   "cell_type": "code",
   "execution_count": 11,
   "id": "078ea630-8fb0-46ed-a939-689818dfbbe3",
   "metadata": {},
   "outputs": [
    {
     "name": "stdout",
     "output_type": "stream",
     "text": [
      "0\n"
     ]
    },
    {
     "data": {
      "text/latex": [
       "$0$"
      ],
      "text/plain": [
       "0"
      ]
     },
     "execution_count": 11,
     "metadata": {},
     "output_type": "execute_result"
    }
   ],
   "source": [
    "println(expr5.coeff(λ, 4))\n",
    "expr5.coeff(λ, 4)"
   ]
  },
  {
   "cell_type": "code",
   "execution_count": 12,
   "id": "67d1c776-a0c5-4d91-8ed6-854deb76d14f",
   "metadata": {},
   "outputs": [
    {
     "name": "stdout",
     "output_type": "stream",
     "text": [
      "K_M*K_d*Δr*κ_t*λ_0 - K_d^2*Δr^2*κ_t^2 + K_d*V_0*Δr*κ_t\n"
     ]
    },
    {
     "data": {
      "text/latex": [
       "$- K_{d} Δr κ_{t} \\left(- K_{M} λ_{0} + K_{d} Δr κ_{t} - V_{0}\\right)$"
      ],
      "text/plain": [
       "-K_d⋅Δr⋅κₜ⋅(-K_M⋅λ₀ + K_d⋅Δr⋅κₜ - V₀)"
      ]
     },
     "execution_count": 12,
     "metadata": {},
     "output_type": "execute_result"
    }
   ],
   "source": [
    "println(expr5.coeff(λ, 3))\n",
    "factor(expr5.coeff(λ, 3), K_d)"
   ]
  },
  {
   "cell_type": "code",
   "execution_count": 13,
   "id": "e148c2b9-f245-490d-8fab-41f64f201b48",
   "metadata": {},
   "outputs": [
    {
     "name": "stdout",
     "output_type": "stream",
     "text": [
      "K_M*K_d*P_out*Δr*κ_t*λ_0 - K_M*K_d*Δr*κ_t*λ_0^2 + K_M*P_in*a_ex*λ_0^2 - K_d^2*P_out*Δr^2*κ_t^2 + 2*K_d^2*Δr^2*κ_t^2*λ_0 - K_d*P_in*a_ex*Δr*κ_t*λ_0 - K_d*V_0*Δr*κ_t*λ_0\n"
     ]
    },
    {
     "data": {
      "text/latex": [
       "$K_{M} P_{in} a_{ex} λ_{0}^{2} - K_{d}^{2} \\left(P_{out} Δr^{2} κ_{t}^{2} - 2 Δr^{2} κ_{t}^{2} λ_{0}\\right) - K_{d} \\left(- K_{M} P_{out} Δr κ_{t} λ_{0} + K_{M} Δr κ_{t} λ_{0}^{2} + P_{in} a_{ex} Δr κ_{t} λ_{0} + V_{0} Δr κ_{t} λ_{0}\\right)$"
      ],
      "text/plain": [
       "              2      2 ⎛       2   2       2   2   ⎞       ⎛                  \n",
       "K_M⋅Pᵢₙ⋅aₑₓ⋅λ₀  - K_d ⋅⎝Pₒᵤₜ⋅Δr ⋅κₜ  - 2⋅Δr ⋅κₜ ⋅λ₀⎠ - K_d⋅⎝-K_M⋅Pₒᵤₜ⋅Δr⋅κₜ⋅λ₀\n",
       "\n",
       "               2                                 ⎞\n",
       " + K_M⋅Δr⋅κₜ⋅λ₀  + Pᵢₙ⋅aₑₓ⋅Δr⋅κₜ⋅λ₀ + V₀⋅Δr⋅κₜ⋅λ₀⎠"
      ]
     },
     "execution_count": 13,
     "metadata": {},
     "output_type": "execute_result"
    }
   ],
   "source": [
    "println(expr5.coeff(λ, 2))\n",
    "factor(expr5.coeff(λ, 2), K_d)"
   ]
  },
  {
   "cell_type": "code",
   "execution_count": 14,
   "id": "fd88f485-4b40-44d3-badf-a2db6916f4b7",
   "metadata": {},
   "outputs": [
    {
     "name": "stdout",
     "output_type": "stream",
     "text": [
      "-K_M*K_d*P_out*Δr*κ_t*λ_0^2 + 2*K_d^2*P_out*Δr^2*κ_t^2*λ_0 - K_d^2*Δr^2*κ_t^2*λ_0^2 + K_d*P_in*a_ex*Δr*κ_t*λ_0^2\n"
     ]
    },
    {
     "data": {
      "text/latex": [
       "$K_{d} Δr κ_{t} λ_{0} \\left(- K_{M} P_{out} λ_{0} + K_{d} \\left(2 P_{out} Δr κ_{t} - Δr κ_{t} λ_{0}\\right) + P_{in} a_{ex} λ_{0}\\right)$"
      ],
      "text/plain": [
       "K_d⋅Δr⋅κₜ⋅λ₀⋅(-K_M⋅Pₒᵤₜ⋅λ₀ + K_d⋅(2⋅Pₒᵤₜ⋅Δr⋅κₜ - Δr⋅κₜ⋅λ₀) + Pᵢₙ⋅aₑₓ⋅λ₀)"
      ]
     },
     "execution_count": 14,
     "metadata": {},
     "output_type": "execute_result"
    }
   ],
   "source": [
    "println(expr5.coeff(λ, 1))\n",
    "factor(expr5.coeff(λ, 1), K_d)"
   ]
  },
  {
   "cell_type": "code",
   "execution_count": 15,
   "id": "048d2217-6ca1-47c2-b842-468accbca45d",
   "metadata": {},
   "outputs": [
    {
     "name": "stdout",
     "output_type": "stream",
     "text": [
      "-K_d^2*P_out*Δr^2*κ_t^2*λ_0^2\n"
     ]
    },
    {
     "data": {
      "text/latex": [
       "$- K_{d}^{2} P_{out} Δr^{2} κ_{t}^{2} λ_{0}^{2}$"
      ],
      "text/plain": [
       "    2        2   2   2\n",
       "-K_d ⋅Pₒᵤₜ⋅Δr ⋅κₜ ⋅λ₀ "
      ]
     },
     "execution_count": 15,
     "metadata": {},
     "output_type": "execute_result"
    }
   ],
   "source": [
    "println(expr5.coeff(λ, 0))\n",
    "expr5.coeff(λ, 0)"
   ]
  },
  {
   "cell_type": "code",
   "execution_count": 16,
   "id": "ee7694f2-3671-42b6-84b1-e9bd88711b21",
   "metadata": {},
   "outputs": [
    {
     "data": {
      "text/latex": [
       "$- K_{d}^{2} P_{out} Δr^{2} κ_{t}^{2} λ_{0}^{2} + λ^{3} \\left(K_{M} K_{d} Δr κ_{t} λ_{0} - K_{d}^{2} Δr^{2} κ_{t}^{2} + K_{d} V_{0} Δr κ_{t}\\right) + λ^{2} \\left(K_{M} K_{d} P_{out} Δr κ_{t} λ_{0} - K_{M} K_{d} Δr κ_{t} λ_{0}^{2} + K_{M} P_{in} a_{ex} λ_{0}^{2} - K_{d}^{2} P_{out} Δr^{2} κ_{t}^{2} + 2 K_{d}^{2} Δr^{2} κ_{t}^{2} λ_{0} - K_{d} P_{in} a_{ex} Δr κ_{t} λ_{0} - K_{d} V_{0} Δr κ_{t} λ_{0}\\right) + λ \\left(- K_{M} K_{d} P_{out} Δr κ_{t} λ_{0}^{2} + 2 K_{d}^{2} P_{out} Δr^{2} κ_{t}^{2} λ_{0} - K_{d}^{2} Δr^{2} κ_{t}^{2} λ_{0}^{2} + K_{d} P_{in} a_{ex} Δr κ_{t} λ_{0}^{2}\\right)$"
      ],
      "text/plain": [
       "     2        2   2   2    3 ⎛                      2   2   2               ⎞ \n",
       "- K_d ⋅Pₒᵤₜ⋅Δr ⋅κₜ ⋅λ₀  + λ ⋅⎝K_M⋅K_d⋅Δr⋅κₜ⋅λ₀ - K_d ⋅Δr ⋅κₜ  + K_d⋅V₀⋅Δr⋅κₜ⎠ \n",
       "\n",
       "   2 ⎛                                        2                 2      2      \n",
       "+ λ ⋅⎝K_M⋅K_d⋅Pₒᵤₜ⋅Δr⋅κₜ⋅λ₀ - K_M⋅K_d⋅Δr⋅κₜ⋅λ₀  + K_M⋅Pᵢₙ⋅aₑₓ⋅λ₀  - K_d ⋅Pₒᵤₜ⋅\n",
       "\n",
       "  2   2        2   2   2                                            ⎞     ⎛   \n",
       "Δr ⋅κₜ  + 2⋅K_d ⋅Δr ⋅κₜ ⋅λ₀ - K_d⋅Pᵢₙ⋅aₑₓ⋅Δr⋅κₜ⋅λ₀ - K_d⋅V₀⋅Δr⋅κₜ⋅λ₀⎠ + λ⋅⎝- K\n",
       "\n",
       "                    2        2        2   2         2   2   2   2             \n",
       "_M⋅K_d⋅Pₒᵤₜ⋅Δr⋅κₜ⋅λ₀  + 2⋅K_d ⋅Pₒᵤₜ⋅Δr ⋅κₜ ⋅λ₀ - K_d ⋅Δr ⋅κₜ ⋅λ₀  + K_d⋅Pᵢₙ⋅aₑ\n",
       "\n",
       "          2⎞\n",
       "ₓ⋅Δr⋅κₜ⋅λ₀ ⎠"
      ]
     },
     "execution_count": 16,
     "metadata": {},
     "output_type": "execute_result"
    }
   ],
   "source": [
    "expr5"
   ]
  },
  {
   "cell_type": "code",
   "execution_count": 17,
   "id": "69dd2108-d567-4948-b668-e1af749388a4",
   "metadata": {},
   "outputs": [
    {
     "data": {
      "text/plain": [
       "solve_polynomial (generic function with 1 method)"
      ]
     },
     "execution_count": 17,
     "metadata": {},
     "output_type": "execute_result"
    }
   ],
   "source": [
    "\n",
    "function solve_polynomial(aex, λ0, κt, Kd, KM, j, V0, Δr)\n",
    "    c = zeros(4)\n",
    "    c1 = κt * Kd * Δr\n",
    "    c[4] = c1 * (KM * λ0 - c1 + V0)\n",
    "    c[3] = KM * j * aex * λ0^2 - c1^2 * (j - 2λ0) - c1 * λ0 * (-KM * j  + KM * λ0 + j * aex + V0)\n",
    "    c[2] = c1 * λ0 * (-KM * j * λ0 + c1 * (2j - λ0) + j * aex * λ0)\n",
    "    c[1] = -Kd^2*j*Δr^2*κt^2*λ0^2\n",
    "    pol = Polynomial(c)\n",
    "    return Polynomials.roots(pol)\n",
    "end\n"
   ]
  },
  {
   "cell_type": "code",
   "execution_count": 18,
   "id": "f95af6c4-0aad-4b31-a725-7167166a5810",
   "metadata": {},
   "outputs": [],
   "source": [
    "_aex = 0  # µM\n",
    "_λ0 = 0.68  # h**-1\n",
    "_κt = 0.06  # µM**-1 h**-1\n",
    "_Kd = .1  # µM\n",
    "_KM = 100 # µM\n",
    "_j = 10# h**-1\n",
    "Pin = 10\n",
    "Pout = 3\n",
    "_V0 = 0\n",
    "_Δr = 46.5  # µM\n",
    "\n",
    "\n",
    "a_ex_range = [0, 0.1, 0.26, 0.4, 0.6, 1]\n",
    "sol_list = zeros(ComplexF64, 3, length(a_ex_range))\n",
    "for (i, x) in enumerate(a_ex_range)\n",
    "    # Pack parameters together\n",
    "    args = (x, _λ0, _κt, _Kd, _KM, _j, _V0, _Δr)\n",
    "    # Find roots\n",
    "    sol_list[:, i] = solve_polynomial(args...)\n",
    "end"
   ]
  },
  {
   "cell_type": "code",
   "execution_count": 19,
   "id": "9b6fbeec-2494-4325-a50e-832c83aa72a0",
   "metadata": {},
   "outputs": [
    {
     "data": {
      "text/plain": [
       "3-element Vector{ComplexF64}:\n",
       "    -12.309686480501533 + 0.0im\n",
       " -0.0028014943665923427 + 0.0im\n",
       "      0.552410494838448 + 0.0im"
      ]
     },
     "execution_count": 19,
     "metadata": {},
     "output_type": "execute_result"
    }
   ],
   "source": [
    "sol_list[:, 2]"
   ]
  },
  {
   "cell_type": "code",
   "execution_count": null,
   "id": "72c8e5dd-dcbf-470f-aa71-ddc3a175a8af",
   "metadata": {},
   "outputs": [],
   "source": []
  },
  {
   "cell_type": "markdown",
   "id": "38d60a49-3233-4633-aa1e-0b64df2668cc",
   "metadata": {},
   "source": [
    "## Writing Generative Model"
   ]
  },
  {
   "cell_type": "markdown",
   "id": "9735d3b0-0ce5-4125-8472-ba23259cdd5e",
   "metadata": {},
   "source": [
    "Now we are going to write down the model in a Bayesian way and try out various priors.\n",
    "\n",
    "\\begin{align*}\n",
    "\\lambda_0 &= 0.68 h^{-1},\\\\[.5em]\n",
    "\\kappa_t &= 0.06 \\mu M^{-1} h^{-1},\\\\[.5em]\n",
    "K_d &= 0.1 \\mu M,\\\\[.5em]\n",
    "K_M &= 10 \\mu M,\\\\[.5em]\n",
    "\\Delta r &= 46.5 \\mu M,\\\\[.5em]\n",
    "\\log j &\\sim \\text{Norm}(2, 2),\\\\[.5em]\n",
    "j &= 10^{\\log j} \\times 1 s^{-1},\\\\[.5em]\n",
    "\\log P_\\mathrm{in} &\\sim \\text{Norm}(2, 2),\\\\[.5em]\n",
    "P_\\mathrm{in} &= 10^{\\log P_\\mathrm{in}} \\times 1 s^{-1},\\\\[.5em]\n",
    "\\log P_\\mathrm{out} &\\sim \\text{Norm}(2, 2),\\\\[.5em]\n",
    "P_\\mathrm{out} &= 10^{\\log P_\\mathrm{out}} \\times 1 s^{-1},\\\\[.5em]\n",
    "\\log V_0 &\\sim \\text{Norm}(2, 2),\\\\[.5em]\n",
    "V_0  &= 10^{\\log V_0 } \\times 1 \\mu M s^{-1}\n",
    "\\end{align*}"
   ]
  },
  {
   "cell_type": "code",
   "execution_count": 24,
   "id": "57338bcc-1378-46c2-a110-29f1b42e6ba0",
   "metadata": {},
   "outputs": [
    {
     "data": {
      "text/plain": [
       "fit_growth_syn (generic function with 2 methods)"
      ]
     },
     "execution_count": 24,
     "metadata": {},
     "output_type": "execute_result"
    }
   ],
   "source": [
    "@model function fit_growth_syn(growth_rates, aex_arr, aex_ppc)\n",
    "    \n",
    "    y_ppc = zeros(Float64, length(aex_ppc))\n",
    "\n",
    "    # Priors\n",
    "    log_j ~ Normal(2, 2)\n",
    "    log_V0 ~ Normal(2, 2)\n",
    "    log_sigma ~ Normal(-3, 1)\n",
    "    \n",
    "    # Transform Parameters\n",
    "    sigma = float(10^log_sigma)\n",
    "    j = 10^log_j\n",
    "    V0 = 10^log_V0\n",
    "    \n",
    "    # Fixed Parameters\n",
    "    λ0 = 0.68  \n",
    "    κt = 0.06\n",
    "    Kd = .1\n",
    "    KM = 10\n",
    "    Δr = 46.5\n",
    "    \n",
    "    for (i, aex) in enumerate(aex_arr)\n",
    "        if typeof(V0) == ForwardDiff.Dual{ForwardDiff.Tag{Turing.TuringTag, Float64}, Float64, 3}\n",
    "            x = [aex, λ0, κt, Kd, KM, ForwardDiff.value(j), ForwardDiff.value(V0), Δr]\n",
    "        else\n",
    "            x = [aex, λ0, κt, Kd, KM, j, V0, Δr]\n",
    "        end\n",
    "        solutions = solve_polynomial(x...)\n",
    "        \n",
    "        y = [imag(x) == 0 ? real(x)/λ0 : missing for x in solutions]\n",
    "        y = filter(x -> !ismissing(x) && (x > 0), y)\n",
    "        if length(y) == 3\n",
    "            deleteat!(y, 2)\n",
    "            opt_y = y[argmin([(λ - root)^2 for root in y])]\n",
    "        else\n",
    "            opt_y = y[1]\n",
    "       end\n",
    "        \n",
    "\n",
    "        growth_rates[i] ~ Normal(opt_y, sigma)\n",
    "    end\n",
    "    for (i, aex) in enumerate(aex_ppc)\n",
    "        if typeof(V0) == ForwardDiff.Dual{ForwardDiff.Tag{Turing.TuringTag, Float64}, Float64, 3}\n",
    "            x = [aex, λ0, κt, Kd, KM, ForwardDiff.value(j), ForwardDiff.value(V0), Δr]\n",
    "        else\n",
    "            x = [aex, λ0, κt, Kd, KM, j, V0, Δr]\n",
    "        end\n",
    "        solutions = solve_polynomial(x...)\n",
    "        \n",
    "        y = [imag(x) == 0 ? real(x)/λ0 : missing for x in solutions]\n",
    "        y = filter(x -> !ismissing(x) && (x > 0), y)\n",
    "        if length(y) == 3\n",
    "            deleteat!(y, 2)\n",
    "            opt_y = y[argmin([(λ - root)^2 for root in y])]\n",
    "        else\n",
    "            opt_y = y[1]\n",
    "        end\n",
    "        if typeof(sigma) == ForwardDiff.Dual{ForwardDiff.Tag{Turing.TuringTag, Float64}, Float64, 3}\n",
    "            y_ppc[i] = rand(Normal(opt_y / λ0, ForwardDiff.value(sigma)), 1)[1]\n",
    "        else\n",
    "            y_ppc[i] = rand(Normal(opt_y, sigma), 1)[1]\n",
    "        end\n",
    "\n",
    "    end\n",
    "    return V0, j, sigma, y_ppc\n",
    "end"
   ]
  },
  {
   "cell_type": "code",
   "execution_count": 25,
   "id": "681f4bb3-6176-45e4-a180-896ca98c983b",
   "metadata": {},
   "outputs": [
    {
     "name": "stdout",
     "output_type": "stream",
     "text": [
      "[-9.999999999999993, -0.002801494366592343, 0.6800000000000003]\n",
      "[-12.309686480501533, -0.0028014943665923427, 0.552410494838448]\n",
      "[-16.0798081795807, -0.0028014943665923436, 0.4228906168566823]\n",
      "[-19.419271557329584, -0.0028014943665923427, 0.3501676146772568]\n",
      "[-24.22436502617409, -0.0028014943665923427, 0.2807091121956212]\n",
      "[-33.893388953043114, -0.0028014943665923427, 0.20062909641230958]\n"
     ]
    }
   ],
   "source": [
    "y = Float64[]\n",
    "for i in 1:length(a_ex_range)\n",
    "    args = (a_ex_range[i], _λ0, _κt, _Kd, _KM, _j, 0, _Δr)\n",
    "    solutions = solve_polynomial(args...)\n",
    "    println(solutions)\n",
    "    _y = [imag(x) == 0 ? real(x) : missing for x in solutions]\n",
    "    push!(y, _y[3])\n",
    "end"
   ]
  },
  {
   "cell_type": "code",
   "execution_count": 26,
   "id": "c96c1b38",
   "metadata": {},
   "outputs": [
    {
     "name": "stdout",
     "output_type": "stream",
     "text": [
      "[0.6800000000000003, 0.552410494838448, 0.4228906168566823, 0.3501676146772568, 0.2807091121956212, 0.20062909641230958]\n"
     ]
    }
   ],
   "source": [
    "println(y)"
   ]
  },
  {
   "cell_type": "code",
   "execution_count": 27,
   "id": "9a280afe-43ce-4379-8102-a4cdc0f6a08a",
   "metadata": {},
   "outputs": [
    {
     "name": "stderr",
     "output_type": "stream",
     "text": [
      "┌ Info: Found initial step size\n",
      "│   ϵ = 0.8\n",
      "└ @ Turing.Inference /Users/tomroeschinger/.julia/packages/Turing/S4Y4B/src/inference/hmc.jl:188\n",
      "\u001b[32mSampling: 100%|█████████████████████████████████████████| Time: 0:00:02\u001b[39m\n"
     ]
    },
    {
     "data": {
      "text/plain": [
       "1000×1 Matrix{Tuple{Float64, Float64, Float64, Vector{Float64}}}:\n",
       " (6.090110711215361, 1081.698797587477, 0.2159774224079172, [0.6683822351561217, 0.614677479031331, 0.799993055902601, 0.6400115609414684, 0.5193482744635943, 0.5204312724232739])\n",
       " (1.5138082995757327, 1019.8862411639108, 0.16327685062400732, [1.1954459856467292, 0.7488449279694452, 0.5058638027469912, 0.6577766308788896, 0.19755987278429196, 0.3766789763771558])\n",
       " (476.58683469832846, 185.2602258947824, 0.20969511496707458, [0.9825383796090956, 0.67203586552479, 0.7579533612650912, 0.812063773765427, 0.5720376512575123, 0.46155015235118446])\n",
       " (55.85748407386252, 11.359239908828918, 0.20802596409757113, [0.7030314190105493, 0.9264366746360101, 0.8104389910363143, 0.5027431624431734, 0.48387314587003044, 0.1372588632909125])\n",
       " (73.23057141616093, 6.605724520830192, 0.20357897473616568, [1.1399608732280053, 0.5521185168352659, 0.5214011473745168, 0.5749791172755292, 0.07182203733187476, 0.8855461786659138])\n",
       " (3.9142078218606873, 0.15012571287275242, 0.44396346131104025, [1.496406166230786, 0.8339506131275767, 0.8016820611502429, 1.2175334113658964, 1.8713010175686438, 0.2813965545464047])\n",
       " (1933.6799459528477, 5249.850990360432, 0.44632971387577147, [0.8197874230720736, 1.9087824980968913, 0.5120497990650514, -0.42620731066911854, 0.8774024679850406, 0.6903839102500349])\n",
       " (587.8977390084657, 21341.504061174368, 0.2965778544041031, [0.6987972059947495, 0.7513664695870035, 0.8116508417972074, -0.0069566826480848, -0.3159366840279202, 0.4919092400838586])\n",
       " (669.4308486603793, 3810.301728550991, 0.18471303164988387, [1.1320345432130323, 0.8866823816754262, 0.7464923682273454, 0.7563015792945772, 0.6901890248606513, 0.12963800108731446])\n",
       " (63.14361504012944, 3217.1845897473313, 0.18742687344637723, [1.0753447875317534, 0.8969705865625446, 0.5661153771835207, 0.47586078429079753, 0.5454058025906383, 0.39036039047147264])\n",
       " (505.305101976546, 3064.667633676036, 0.19680230547405816, [1.0396925070013516, 0.821923902726044, 0.5256748612673824, 0.35166561642825245, -0.09817540714616096, 0.5158557804352021])\n",
       " (2.660788256113053, 1039.83291504833, 0.21792313043794467, [0.9500296395352055, 0.9471435758608756, 0.5767227729641264, 0.6968079300280495, 0.7302162029397878, 0.16173405690067086])\n",
       " (3.652905439192443, 175.3691724553965, 0.22535726371820086, [1.2158541446739866, 0.6318464849570063, 0.8346817845693302, 0.4623076850800734, 0.3889885791190573, 0.4074892528094386])\n",
       " ⋮\n",
       " (13018.358377513587, 36979.798451318675, 0.1962896888837958, [0.8946490044753774, 0.7729826473560159, 0.9317070595472585, 0.5376442783185843, 0.32756761187977845, 0.4168189978727605])\n",
       " (2146.0378684265424, 5351.7698668654875, 0.23251904105889395, [0.960774460958818, 0.9973489352007716, 0.5191847590670973, 0.7111809668799322, 0.30768943691412715, 0.583120515681961])\n",
       " (4090.825446316558, 23013.59742437443, 0.2686584774658213, [1.10291765729109, 0.32639802443542104, 0.742706780971295, 1.3512596932313317, 0.37080135789448093, 0.8676292866850825])\n",
       " (4099.328466531751, 15996.650606635594, 0.2488087795125716, [0.9398718349393693, 0.9912747142770981, 0.8550172195122647, 0.737449924435793, 0.50111936881977, 0.23255024792096993])\n",
       " (3.121950337898657, 2.8104396545709376, 0.14334203094246933, [0.9361092254922616, 0.890565948249748, 0.7577611918975045, 0.5577487677998506, 0.07621644622782642, 0.3238883847191554])\n",
       " (0.016719668313625292, 1580.2277780302297, 0.29548443456202456, [0.7300459411849232, 0.5914218468154961, 0.49318642933750845, 0.2619153118550783, 0.33450805012703533, 0.6189673797128632])\n",
       " (4.543858425292708, 11616.395621285803, 0.16225874388033013, [0.9451465359760106, 0.6869075717955231, 0.5615392861610742, 0.6443049390804654, 0.42297099833625323, 0.2194358851043013])\n",
       " (1.9901329931585032, 22196.500648882084, 0.21139657706183448, [0.6186440454503266, 0.5787689888018377, 0.7926182456934066, 0.6152338517487698, 0.5536484503626105, 0.481051738403831])\n",
       " (0.0106858363134929, 844.7818226133844, 0.18821303634414738, [0.8625559369405409, 0.6620563004153475, 0.9054172187263938, 0.6973283019073435, 0.38684818703693535, 0.41261539428725014])\n",
       " (0.0001320295590854614, 1490.8298834669606, 0.20893028581604803, [1.1402445264048657, 0.5871375025335713, 0.8046948398438101, 0.3630975623085283, 0.258794323621978, 0.29829249410688813])\n",
       " (0.00013587895409281417, 367.0973466756358, 0.2128141354333937, [1.318955176787241, 0.8866523755993463, 0.3764751280880606, 0.5627465086114587, 0.835447390397674, 0.4851743079667077])\n",
       " (0.03646642480525828, 742.8758876184585, 0.17394443850869665, [1.0028092597161375, 0.8339693519856062, 0.4951647966910812, 0.5422331529942404, 0.15313012215051142, -0.08860667851436005])"
      ]
     },
     "execution_count": 27,
     "metadata": {},
     "output_type": "execute_result"
    }
   ],
   "source": [
    "chn = sample(fit_growth_syn(y, a_ex_range, a_ex_range), NUTS(0.65), 1000)\n",
    "chains_params = Turing.MCMCChains.get_sections(chn, :parameters)\n",
    "gen = generated_quantities(fit_growth_syn(y, a_ex_range, a_ex_range), chains_params)"
   ]
  },
  {
   "cell_type": "code",
   "execution_count": 28,
   "id": "b29fa9e4-83d7-44a6-a386-a0beadcf4c08",
   "metadata": {},
   "outputs": [
    {
     "data": {
      "text/plain": [
       "5-element Vector{Float64}:\n",
       " 0.8048595175316314\n",
       " 0.623082855632125\n",
       " 0.5105809605341888\n",
       " 0.42251225138698756\n",
       " 0.29703829340402294"
      ]
     },
     "execution_count": 28,
     "metadata": {},
     "output_type": "execute_result"
    }
   ],
   "source": [
    "y_ppc = mean(hcat([x[end] for x in gen]...), dims=2)[2:end] |> vec"
   ]
  },
  {
   "cell_type": "code",
   "execution_count": 29,
   "id": "46154f1a",
   "metadata": {},
   "outputs": [
    {
     "data": {
      "image/png": "[encoded data removed]",
      "text/plain": [
       "Figure()"
      ]
     },
     "execution_count": 29,
     "metadata": {},
     "output_type": "execute_result"
    }
   ],
   "source": [
    "y_ppc = mean(hcat([x[end] for x in gen]...), dims=2)[2:end] |> vec\n",
    "fig = Figure(resolution=(600, 400))\n",
    "ax = Axis(fig[1, 1], xscale=log10)\n",
    "scatter!(ax, a_ex_range[2:end], y[2:end] ./ _λ0)\n",
    "\n",
    "lines!(ax, a_ex_range[2:end], y_ppc)\n",
    "\n",
    "fig"
   ]
  },
  {
   "cell_type": "code",
   "execution_count": 30,
   "id": "e4bec8c9",
   "metadata": {},
   "outputs": [
    {
     "data": {
      "text/html": [
       "<div class=\"data-frame\"><p>5 rows × 8 columns</p><table class=\"data-frame\"><thead><tr><th></th><th>run</th><th>strain</th><th>pos_selection</th><th>well</th><th>date</th><th>rep</th><th>tc</th><th>exp_growth_rate</th></tr><tr><th></th><th title=\"String3\">String3</th><th title=\"SubString{String15}\">SubStrin…</th><th title=\"String15\">String15</th><th title=\"String3\">String3</th><th title=\"Int64\">Int64</th><th title=\"Int64\">Int64</th><th title=\"Float64\">Float64</th><th title=\"Float64\">Float64</th></tr></thead><tbody><tr><th>1</th><td>r2</td><td>MG1655</td><td>0_µg/ml_tc</td><td>A02</td><td>20220714</td><td>1</td><td>0.0</td><td>0.00908367</td></tr><tr><th>2</th><td>r2</td><td>3.19</td><td>0_µg/ml_tc</td><td>A03</td><td>20220714</td><td>1</td><td>0.0</td><td>0.00920603</td></tr><tr><th>3</th><td>r2</td><td>IW</td><td>0_µg/ml_tc</td><td>A04</td><td>20220714</td><td>1</td><td>0.0</td><td>0.0103141</td></tr><tr><th>4</th><td>r2</td><td>MG1655</td><td>0.1_µg/ml_tc</td><td>A05</td><td>20220714</td><td>1</td><td>0.1</td><td>0.0074149</td></tr><tr><th>5</th><td>r2</td><td>3.19</td><td>0.1_µg/ml_tc</td><td>A06</td><td>20220714</td><td>1</td><td>0.1</td><td>0.00850656</td></tr></tbody></table></div>"
      ],
      "text/latex": [
       "\\begin{tabular}{r|cccccccc}\n",
       "\t& run & strain & pos\\_selection & well & date & rep & tc & exp\\_growth\\_rate\\\\\n",
       "\t\\hline\n",
       "\t& String3 & SubStrin… & String15 & String3 & Int64 & Int64 & Float64 & Float64\\\\\n",
       "\t\\hline\n",
       "\t1 & r2 & MG1655 & 0\\_µg/ml\\_tc & A02 & 20220714 & 1 & 0.0 & 0.00908367 \\\\\n",
       "\t2 & r2 & 3.19 & 0\\_µg/ml\\_tc & A03 & 20220714 & 1 & 0.0 & 0.00920603 \\\\\n",
       "\t3 & r2 & IW & 0\\_µg/ml\\_tc & A04 & 20220714 & 1 & 0.0 & 0.0103141 \\\\\n",
       "\t4 & r2 & MG1655 & 0.1\\_µg/ml\\_tc & A05 & 20220714 & 1 & 0.1 & 0.0074149 \\\\\n",
       "\t5 & r2 & 3.19 & 0.1\\_µg/ml\\_tc & A06 & 20220714 & 1 & 0.1 & 0.00850656 \\\\\n",
       "\\end{tabular}\n"
      ],
      "text/plain": [
       "\u001b[1m5×8 DataFrame\u001b[0m\n",
       "\u001b[1m Row \u001b[0m│\u001b[1m run     \u001b[0m\u001b[1m strain    \u001b[0m\u001b[1m pos_selection \u001b[0m\u001b[1m well    \u001b[0m\u001b[1m date     \u001b[0m\u001b[1m rep   \u001b[0m\u001b[1m tc      \u001b[0m\u001b[1m e\u001b[0m ⋯\n",
       "\u001b[1m     \u001b[0m│\u001b[90m String3 \u001b[0m\u001b[90m SubStrin… \u001b[0m\u001b[90m String15      \u001b[0m\u001b[90m String3 \u001b[0m\u001b[90m Int64    \u001b[0m\u001b[90m Int64 \u001b[0m\u001b[90m Float64 \u001b[0m\u001b[90m F\u001b[0m ⋯\n",
       "─────┼──────────────────────────────────────────────────────────────────────────\n",
       "   1 │ r2       MG1655     0_µg/ml_tc     A02      20220714      1      0.0    ⋯\n",
       "   2 │ r2       3.19       0_µg/ml_tc     A03      20220714      1      0.0\n",
       "   3 │ r2       IW         0_µg/ml_tc     A04      20220714      1      0.0\n",
       "   4 │ r2       MG1655     0.1_µg/ml_tc   A05      20220714      1      0.1\n",
       "   5 │ r2       3.19       0.1_µg/ml_tc   A06      20220714      1      0.1    ⋯\n",
       "\u001b[36m                                                                1 column omitted\u001b[0m"
      ]
     },
     "execution_count": 30,
     "metadata": {},
     "output_type": "execute_result"
    }
   ],
   "source": [
    "files = [\n",
    "    \"20220714_r2_allstrains_tc\",\n",
    "    \"20220715_r3_allstrains_tc\",\n",
    "    \"20220722_r1_allstrains_tc\",\n",
    "    \"20220723_r2_allstrains_tc\",\n",
    "    \"20220725_r3_allstrains_tc\"\n",
    "    ]\n",
    "\n",
    "df = DataFrame()\n",
    "\n",
    "for file in files\n",
    "    _df = CSV.read(\"../../processing/plate_reader/\" * file * \"/exp_analysis_summary.csv\", DataFrame)\n",
    "    insertcols!(_df, 5, :tc => map(x -> parse(Float64, split(x, \"_\")[1]), _df.pos_selection))\n",
    "    insertcols!(_df, 5, :rep => map(x -> parse(Int64, split(x, \"_\")[2]), _df.strain))\n",
    "    insertcols!(_df, 5, :date => parse(Int64, split(file, \"_\")[1]))\n",
    "    _df.strain = map(x -> split(x, \"_\")[1], _df.strain)\n",
    "    df = vcat(df, _df)\n",
    "end\n",
    "first(df, 5)"
   ]
  },
  {
   "cell_type": "code",
   "execution_count": 31,
   "id": "4a676643",
   "metadata": {},
   "outputs": [
    {
     "data": {
      "text/html": [
       "<div class=\"data-frame\"><p>87 rows × 8 columns</p><table class=\"data-frame\"><thead><tr><th></th><th>run</th><th>strain</th><th>pos_selection</th><th>well</th><th>date</th><th>rep</th><th>tc</th><th>exp_growth_rate</th></tr><tr><th></th><th title=\"String3\">String3</th><th title=\"SubString{String15}\">SubStrin…</th><th title=\"String15\">String15</th><th title=\"String3\">String3</th><th title=\"Int64\">Int64</th><th title=\"Int64\">Int64</th><th title=\"Float64\">Float64</th><th title=\"Float64\">Float64</th></tr></thead><tbody><tr><th>1</th><td>r2</td><td>MG1655</td><td>0_µg/ml_tc</td><td>A02</td><td>20220714</td><td>1</td><td>0.0</td><td>0.00908367</td></tr><tr><th>2</th><td>r2</td><td>MG1655</td><td>0.1_µg/ml_tc</td><td>A05</td><td>20220714</td><td>1</td><td>0.1</td><td>0.0074149</td></tr><tr><th>3</th><td>r2</td><td>MG1655</td><td>0.25_µg/ml_tc</td><td>A10</td><td>20220714</td><td>1</td><td>0.25</td><td>0.00593602</td></tr><tr><th>4</th><td>r2</td><td>MG1655</td><td>0_µg/ml_tc</td><td>B03</td><td>20220714</td><td>2</td><td>0.0</td><td>0.0100495</td></tr><tr><th>5</th><td>r2</td><td>MG1655</td><td>0.1_µg/ml_tc</td><td>B05</td><td>20220714</td><td>2</td><td>0.1</td><td>0.0079365</td></tr><tr><th>6</th><td>r2</td><td>MG1655</td><td>0_µg/ml_tc</td><td>C04</td><td>20220714</td><td>1</td><td>0.0</td><td>0.00952114</td></tr><tr><th>7</th><td>r2</td><td>MG1655</td><td>0.1_µg/ml_tc</td><td>C05</td><td>20220714</td><td>1</td><td>0.1</td><td>0.00782161</td></tr><tr><th>8</th><td>r2</td><td>MG1655</td><td>0.1_µg/ml_tc</td><td>D05</td><td>20220714</td><td>2</td><td>0.1</td><td>0.00907718</td></tr><tr><th>9</th><td>r2</td><td>MG1655</td><td>0_µg/ml_tc</td><td>E01</td><td>20220714</td><td>2</td><td>0.0</td><td>0.00999429</td></tr><tr><th>10</th><td>r2</td><td>MG1655</td><td>0.16_µg/ml_tc</td><td>E05</td><td>20220714</td><td>1</td><td>0.16</td><td>0.00730575</td></tr><tr><th>11</th><td>r2</td><td>MG1655</td><td>0.25_µg/ml_tc</td><td>E10</td><td>20220714</td><td>1</td><td>0.25</td><td>0.00661237</td></tr><tr><th>12</th><td>r2</td><td>MG1655</td><td>0_µg/ml_tc</td><td>F02</td><td>20220714</td><td>1</td><td>0.0</td><td>0.00920983</td></tr><tr><th>13</th><td>r2</td><td>MG1655</td><td>0.16_µg/ml_tc</td><td>F05</td><td>20220714</td><td>2</td><td>0.16</td><td>0.0074642</td></tr><tr><th>14</th><td>r2</td><td>MG1655</td><td>0_µg/ml_tc</td><td>G03</td><td>20220714</td><td>2</td><td>0.0</td><td>0.00998893</td></tr><tr><th>15</th><td>r2</td><td>MG1655</td><td>0.16_µg/ml_tc</td><td>G05</td><td>20220714</td><td>1</td><td>0.16</td><td>0.00686349</td></tr><tr><th>16</th><td>r2</td><td>MG1655</td><td>0.16_µg/ml_tc</td><td>H05</td><td>20220714</td><td>2</td><td>0.16</td><td>0.00680072</td></tr><tr><th>17</th><td>r3</td><td>MG1655</td><td>0_µg/ml_tc</td><td>A02</td><td>20220715</td><td>1</td><td>0.0</td><td>0.0101828</td></tr><tr><th>18</th><td>r3</td><td>MG1655</td><td>0.1_µg/ml_tc</td><td>A05</td><td>20220715</td><td>1</td><td>0.1</td><td>0.00867908</td></tr><tr><th>19</th><td>r3</td><td>MG1655</td><td>0.25_µg/ml_tc</td><td>A10</td><td>20220715</td><td>1</td><td>0.25</td><td>0.00745109</td></tr><tr><th>20</th><td>r3</td><td>MG1655</td><td>0_µg/ml_tc</td><td>B03</td><td>20220715</td><td>2</td><td>0.0</td><td>0.0104697</td></tr><tr><th>21</th><td>r3</td><td>MG1655</td><td>0.1_µg/ml_tc</td><td>B05</td><td>20220715</td><td>2</td><td>0.1</td><td>0.00943248</td></tr><tr><th>22</th><td>r3</td><td>MG1655</td><td>0_µg/ml_tc</td><td>C04</td><td>20220715</td><td>1</td><td>0.0</td><td>0.0109842</td></tr><tr><th>23</th><td>r3</td><td>MG1655</td><td>0.1_µg/ml_tc</td><td>C05</td><td>20220715</td><td>1</td><td>0.1</td><td>0.00950443</td></tr><tr><th>24</th><td>r3</td><td>MG1655</td><td>0.25_µg/ml_tc</td><td>C11</td><td>20220715</td><td>2</td><td>0.25</td><td>0.00763439</td></tr><tr><th>25</th><td>r3</td><td>MG1655</td><td>0.1_µg/ml_tc</td><td>D05</td><td>20220715</td><td>2</td><td>0.1</td><td>0.00954933</td></tr><tr><th>26</th><td>r3</td><td>MG1655</td><td>0_µg/ml_tc</td><td>E01</td><td>20220715</td><td>2</td><td>0.0</td><td>0.00978038</td></tr><tr><th>27</th><td>r3</td><td>MG1655</td><td>0.16_µg/ml_tc</td><td>E05</td><td>20220715</td><td>1</td><td>0.16</td><td>0.0089024</td></tr><tr><th>28</th><td>r3</td><td>MG1655</td><td>0.25_µg/ml_tc</td><td>E10</td><td>20220715</td><td>1</td><td>0.25</td><td>0.00810463</td></tr><tr><th>29</th><td>r3</td><td>MG1655</td><td>0_µg/ml_tc</td><td>F02</td><td>20220715</td><td>1</td><td>0.0</td><td>0.0105762</td></tr><tr><th>30</th><td>r3</td><td>MG1655</td><td>0.16_µg/ml_tc</td><td>F05</td><td>20220715</td><td>2</td><td>0.16</td><td>0.00892282</td></tr><tr><th>&vellip;</th><td>&vellip;</td><td>&vellip;</td><td>&vellip;</td><td>&vellip;</td><td>&vellip;</td><td>&vellip;</td><td>&vellip;</td><td>&vellip;</td></tr></tbody></table></div>"
      ],
      "text/latex": [
       "\\begin{tabular}{r|cccccccc}\n",
       "\t& run & strain & pos\\_selection & well & date & rep & tc & exp\\_growth\\_rate\\\\\n",
       "\t\\hline\n",
       "\t& String3 & SubStrin… & String15 & String3 & Int64 & Int64 & Float64 & Float64\\\\\n",
       "\t\\hline\n",
       "\t1 & r2 & MG1655 & 0\\_µg/ml\\_tc & A02 & 20220714 & 1 & 0.0 & 0.00908367 \\\\\n",
       "\t2 & r2 & MG1655 & 0.1\\_µg/ml\\_tc & A05 & 20220714 & 1 & 0.1 & 0.0074149 \\\\\n",
       "\t3 & r2 & MG1655 & 0.25\\_µg/ml\\_tc & A10 & 20220714 & 1 & 0.25 & 0.00593602 \\\\\n",
       "\t4 & r2 & MG1655 & 0\\_µg/ml\\_tc & B03 & 20220714 & 2 & 0.0 & 0.0100495 \\\\\n",
       "\t5 & r2 & MG1655 & 0.1\\_µg/ml\\_tc & B05 & 20220714 & 2 & 0.1 & 0.0079365 \\\\\n",
       "\t6 & r2 & MG1655 & 0\\_µg/ml\\_tc & C04 & 20220714 & 1 & 0.0 & 0.00952114 \\\\\n",
       "\t7 & r2 & MG1655 & 0.1\\_µg/ml\\_tc & C05 & 20220714 & 1 & 0.1 & 0.00782161 \\\\\n",
       "\t8 & r2 & MG1655 & 0.1\\_µg/ml\\_tc & D05 & 20220714 & 2 & 0.1 & 0.00907718 \\\\\n",
       "\t9 & r2 & MG1655 & 0\\_µg/ml\\_tc & E01 & 20220714 & 2 & 0.0 & 0.00999429 \\\\\n",
       "\t10 & r2 & MG1655 & 0.16\\_µg/ml\\_tc & E05 & 20220714 & 1 & 0.16 & 0.00730575 \\\\\n",
       "\t11 & r2 & MG1655 & 0.25\\_µg/ml\\_tc & E10 & 20220714 & 1 & 0.25 & 0.00661237 \\\\\n",
       "\t12 & r2 & MG1655 & 0\\_µg/ml\\_tc & F02 & 20220714 & 1 & 0.0 & 0.00920983 \\\\\n",
       "\t13 & r2 & MG1655 & 0.16\\_µg/ml\\_tc & F05 & 20220714 & 2 & 0.16 & 0.0074642 \\\\\n",
       "\t14 & r2 & MG1655 & 0\\_µg/ml\\_tc & G03 & 20220714 & 2 & 0.0 & 0.00998893 \\\\\n",
       "\t15 & r2 & MG1655 & 0.16\\_µg/ml\\_tc & G05 & 20220714 & 1 & 0.16 & 0.00686349 \\\\\n",
       "\t16 & r2 & MG1655 & 0.16\\_µg/ml\\_tc & H05 & 20220714 & 2 & 0.16 & 0.00680072 \\\\\n",
       "\t17 & r3 & MG1655 & 0\\_µg/ml\\_tc & A02 & 20220715 & 1 & 0.0 & 0.0101828 \\\\\n",
       "\t18 & r3 & MG1655 & 0.1\\_µg/ml\\_tc & A05 & 20220715 & 1 & 0.1 & 0.00867908 \\\\\n",
       "\t19 & r3 & MG1655 & 0.25\\_µg/ml\\_tc & A10 & 20220715 & 1 & 0.25 & 0.00745109 \\\\\n",
       "\t20 & r3 & MG1655 & 0\\_µg/ml\\_tc & B03 & 20220715 & 2 & 0.0 & 0.0104697 \\\\\n",
       "\t21 & r3 & MG1655 & 0.1\\_µg/ml\\_tc & B05 & 20220715 & 2 & 0.1 & 0.00943248 \\\\\n",
       "\t22 & r3 & MG1655 & 0\\_µg/ml\\_tc & C04 & 20220715 & 1 & 0.0 & 0.0109842 \\\\\n",
       "\t23 & r3 & MG1655 & 0.1\\_µg/ml\\_tc & C05 & 20220715 & 1 & 0.1 & 0.00950443 \\\\\n",
       "\t24 & r3 & MG1655 & 0.25\\_µg/ml\\_tc & C11 & 20220715 & 2 & 0.25 & 0.00763439 \\\\\n",
       "\t25 & r3 & MG1655 & 0.1\\_µg/ml\\_tc & D05 & 20220715 & 2 & 0.1 & 0.00954933 \\\\\n",
       "\t26 & r3 & MG1655 & 0\\_µg/ml\\_tc & E01 & 20220715 & 2 & 0.0 & 0.00978038 \\\\\n",
       "\t27 & r3 & MG1655 & 0.16\\_µg/ml\\_tc & E05 & 20220715 & 1 & 0.16 & 0.0089024 \\\\\n",
       "\t28 & r3 & MG1655 & 0.25\\_µg/ml\\_tc & E10 & 20220715 & 1 & 0.25 & 0.00810463 \\\\\n",
       "\t29 & r3 & MG1655 & 0\\_µg/ml\\_tc & F02 & 20220715 & 1 & 0.0 & 0.0105762 \\\\\n",
       "\t30 & r3 & MG1655 & 0.16\\_µg/ml\\_tc & F05 & 20220715 & 2 & 0.16 & 0.00892282 \\\\\n",
       "\t$\\dots$ & $\\dots$ & $\\dots$ & $\\dots$ & $\\dots$ & $\\dots$ & $\\dots$ & $\\dots$ & $\\dots$ \\\\\n",
       "\\end{tabular}\n"
      ],
      "text/plain": [
       "\u001b[1m87×8 DataFrame\u001b[0m\n",
       "\u001b[1m Row \u001b[0m│\u001b[1m run     \u001b[0m\u001b[1m strain    \u001b[0m\u001b[1m pos_selection \u001b[0m\u001b[1m well    \u001b[0m\u001b[1m date     \u001b[0m\u001b[1m rep   \u001b[0m\u001b[1m tc      \u001b[0m\u001b[1m e\u001b[0m ⋯\n",
       "\u001b[1m     \u001b[0m│\u001b[90m String3 \u001b[0m\u001b[90m SubStrin… \u001b[0m\u001b[90m String15      \u001b[0m\u001b[90m String3 \u001b[0m\u001b[90m Int64    \u001b[0m\u001b[90m Int64 \u001b[0m\u001b[90m Float64 \u001b[0m\u001b[90m F\u001b[0m ⋯\n",
       "─────┼──────────────────────────────────────────────────────────────────────────\n",
       "   1 │ r2       MG1655     0_µg/ml_tc     A02      20220714      1     0.0     ⋯\n",
       "   2 │ r2       MG1655     0.1_µg/ml_tc   A05      20220714      1     0.1\n",
       "   3 │ r2       MG1655     0.25_µg/ml_tc  A10      20220714      1     0.25\n",
       "   4 │ r2       MG1655     0_µg/ml_tc     B03      20220714      2     0.0\n",
       "   5 │ r2       MG1655     0.1_µg/ml_tc   B05      20220714      2     0.1     ⋯\n",
       "   6 │ r2       MG1655     0_µg/ml_tc     C04      20220714      1     0.0\n",
       "   7 │ r2       MG1655     0.1_µg/ml_tc   C05      20220714      1     0.1\n",
       "   8 │ r2       MG1655     0.1_µg/ml_tc   D05      20220714      2     0.1\n",
       "   9 │ r2       MG1655     0_µg/ml_tc     E01      20220714      2     0.0     ⋯\n",
       "  10 │ r2       MG1655     0.16_µg/ml_tc  E05      20220714      1     0.16\n",
       "  11 │ r2       MG1655     0.25_µg/ml_tc  E10      20220714      1     0.25\n",
       "  ⋮  │    ⋮         ⋮            ⋮           ⋮        ⋮        ⋮       ⋮       ⋱\n",
       "  78 │ r3       MG1655     0.4_µg/ml_tc   D05      20220725      2     0.4\n",
       "  79 │ r3       MG1655     0_µg/ml_tc     E01      20220725      2     0.0     ⋯\n",
       "  80 │ r3       MG1655     0.63_µg/ml_tc  E05      20220725      1     0.63\n",
       "  81 │ r3       MG1655     1.0_µg/ml_tc   E10      20220725      1     1.0\n",
       "  82 │ r3       MG1655     0_µg/ml_tc     F02      20220725      1     0.0\n",
       "  83 │ r3       MG1655     0.63_µg/ml_tc  F05      20220725      2     0.63    ⋯\n",
       "  84 │ r3       MG1655     1.0_µg/ml_tc   F12      20220725      2     1.0\n",
       "  85 │ r3       MG1655     0_µg/ml_tc     G03      20220725      2     0.0\n",
       "  86 │ r3       MG1655     0.63_µg/ml_tc  G05      20220725      1     0.63\n",
       "  87 │ r3       MG1655     0.63_µg/ml_tc  H05      20220725      2     0.63    ⋯\n",
       "\u001b[36m                                                    1 column and 66 rows omitted\u001b[0m"
      ]
     },
     "execution_count": 31,
     "metadata": {},
     "output_type": "execute_result"
    }
   ],
   "source": [
    "df_MG = df[(df.strain .== \"MG1655\"), :]"
   ]
  },
  {
   "cell_type": "code",
   "execution_count": 32,
   "id": "a0bb14cb",
   "metadata": {},
   "outputs": [
    {
     "data": {
      "text/plain": [
       "fit_growth (generic function with 2 methods)"
      ]
     },
     "execution_count": 32,
     "metadata": {},
     "output_type": "execute_result"
    }
   ],
   "source": [
    "@model function fit_growth(growth_rates, aex_arr, aex_ppc)\n",
    "    \n",
    "    y_ppc = zeros(Float64, length(aex_ppc))\n",
    "\n",
    "    # Priors\n",
    "    log_j ~ Normal(2, 2)\n",
    "    log_V0 ~ Normal(2, 2)\n",
    "    log_sigma ~ Normal(-3, 2)\n",
    "    λ0 ~ truncated(Normal(0, 0.01), 0, Inf)\n",
    "    \n",
    "    # Transform Parameters\n",
    "    sigma = float(10^log_sigma)\n",
    "    j = 10^log_j\n",
    "    V0 = 10^log_V0\n",
    "    \n",
    "    # Fixed Parameters\n",
    "    κt = 0.06\n",
    "    Kd = .1\n",
    "    KM = 10\n",
    "    Δr = 46.5\n",
    "    \n",
    "    for (i, aex) in enumerate(aex_arr)\n",
    "        if typeof(V0) == ForwardDiff.Dual{ForwardDiff.Tag{Turing.TuringTag, Float64}, Float64, 4}\n",
    "            x = [aex, ForwardDiff.value(λ0), κt, Kd, KM, ForwardDiff.value(j), ForwardDiff.value(V0), Δr]\n",
    "        else\n",
    "            x = [aex, λ0, κt, Kd, KM, j, V0, Δr]\n",
    "        end\n",
    "        solutions = solve_polynomial(x...)\n",
    "        \n",
    "        y = [imag(x) == 0 ? real(x) : missing for x in solutions]\n",
    "        y = filter(x -> !ismissing(x) && (x > 0), y)\n",
    "        if length(y) == 3\n",
    "            deleteat!(y, 2)\n",
    "            opt_y = y[argmin([(λ - root)^2 for root in y])]\n",
    "        else\n",
    "            opt_y = y[1]\n",
    "       end\n",
    "        \n",
    "\n",
    "        growth_rates[i] ~ Normal(opt_y, sigma)\n",
    "    end\n",
    "    for (i, aex) in enumerate(aex_ppc)\n",
    "        if typeof(V0) == ForwardDiff.Dual{ForwardDiff.Tag{Turing.TuringTag, Float64}, Float64, 4}\n",
    "            x = [aex, ForwardDiff.value(λ0), κt, Kd, KM, ForwardDiff.value(j), ForwardDiff.value(V0), Δr]\n",
    "        else\n",
    "            x = [aex, λ0, κt, Kd, KM, j, V0, Δr]\n",
    "        end\n",
    "        solutions = solve_polynomial(x...)\n",
    "        \n",
    "        y = [imag(x) == 0 ? real(x) : missing for x in solutions]\n",
    "        y = filter(x -> !ismissing(x) && (x > 0), y)\n",
    "        if length(y) == 3\n",
    "            deleteat!(y, 2)\n",
    "            opt_y = y[argmin([(λ - root)^2 for root in y])]\n",
    "        else\n",
    "            opt_y = y[1]\n",
    "        end\n",
    "        if typeof(sigma) == ForwardDiff.Dual{ForwardDiff.Tag{Turing.TuringTag, Float64}, Float64, 4}\n",
    "            y_ppc[i] = rand(Normal(opt_y, ForwardDiff.value(sigma)), 1)[1]\n",
    "        else\n",
    "            y_ppc[i] = rand(Normal(opt_y, sigma), 1)[1]\n",
    "        end\n",
    "\n",
    "    end\n",
    "    return λ0, V0, j, sigma, y_ppc\n",
    "end"
   ]
  },
  {
   "cell_type": "code",
   "execution_count": 33,
   "id": "8841f58a",
   "metadata": {},
   "outputs": [
    {
     "name": "stderr",
     "output_type": "stream",
     "text": [
      "┌ Warning: The current proposal will be rejected due to numerical error(s).\n",
      "│   isfinite.((θ, r, ℓπ, ℓκ)) = (true, false, false, false)\n",
      "└ @ AdvancedHMC /Users/tomroeschinger/.julia/packages/AdvancedHMC/51xgc/src/hamiltonian.jl:47\n",
      "┌ Warning: The current proposal will be rejected due to numerical error(s).\n",
      "│   isfinite.((θ, r, ℓπ, ℓκ)) = (true, false, false, false)\n",
      "└ @ AdvancedHMC /Users/tomroeschinger/.julia/packages/AdvancedHMC/51xgc/src/hamiltonian.jl:47\n",
      "┌ Info: Found initial step size\n",
      "│   ϵ = 0.003125\n",
      "└ @ Turing.Inference /Users/tomroeschinger/.julia/packages/Turing/S4Y4B/src/inference/hmc.jl:188\n",
      "\u001b[32mSampling:   4%|█▊                                       |  ETA: 5:47:41\u001b[39m"
     ]
    }
   ],
   "source": [
    "aex_ppc  = df_MG[!, :tc] |> unique |> sort\n",
    "chn = sample(fit_growth(df_MG[!, :exp_growth_rate], df_MG[!, :tc], aex_ppc), NUTS(0.65), 1000)\n",
    "chains_params = Turing.MCMCChains.get_sections(chn, :parameters)\n",
    "gen = generated_quantities(fit_growth(df_MG[!, :exp_growth_rate], df_MG[!, :tc], aex_ppc), chains_params)"
   ]
  },
  {
   "cell_type": "code",
   "execution_count": null,
   "id": "b3be1db1",
   "metadata": {},
   "outputs": [
    {
     "name": "stdout",
     "output_type": "stream",
     "text": [
      "5452.307599556206\n"
     ]
    },
    {
     "data": {
      "image/png": "[encoded data removed]",
      "text/plain": [
       "Figure()"
      ]
     },
     "execution_count": 39,
     "metadata": {},
     "output_type": "execute_result"
    }
   ],
   "source": [
    "y_ppc = mean(hcat([x[end] for x in gen]...), dims=2) |> vec\n",
    "\n",
    "λ_0_infer = hcat([x[1] for x in gen]...) |> mean\n",
    "println(λ_0_infer)\n",
    "fig = Figure(resolution=(600, 400))\n",
    "ax = Axis(fig[1, 1])\n",
    "scatter!(ax, df_MG[!, :tc], df_MG[!, :exp_growth_rate])\n",
    "\n",
    "lines!(ax, aex_ppc, y_ppc)\n",
    "\n",
    "fig"
   ]
  },
  {
   "cell_type": "code",
   "execution_count": null,
   "id": "03cc7183",
   "metadata": {},
   "outputs": [
    {
     "data": {
      "text/plain": [
       "1000×1 Matrix{Tuple{Float64, Float64, Float64, Vector{Float64}}}:\n",
       " (0.04290018401843456, 36.3417316666039, 0.7979321051821697, [1.4286248945660043, 1.2829301309743388, 0.7095790680981101, 0.47140696072692734, 1.656665430103685, 1.143037365474611, 0.643107278502845])\n",
       " (0.7881481658332842, 14.23437500406102, 0.7795028434354134, [1.9650501622712415, 0.6234915283512533, 0.5435850392881073, 1.36948210177138, -0.50621468440705, 2.1085897304161203, -0.09966764023043684])\n",
       " (4.240141691207039, 24.10105665338506, 0.7760431037760763, [1.8342133476278968, 0.32008977365371066, -0.0324857771682906, 1.2950304592835686, 0.016334960500800744, 0.5898338377220864, 1.360656406904501])\n",
       " (4.240141691207039, 24.10105665338506, 0.7760431037760763, [0.5443879549998492, 1.6165610793746847, 0.8523254161646598, 1.1152529991210647, 0.17491044785597815, 0.6783401022579583, 0.6546446276629418])\n",
       " (7.52630314816232, 98.94475340870184, 0.774662702406743, [0.023903253780572564, 0.8307522740622075, 0.8542312849378237, 0.0036737304375280555, 1.3328993172040695, 1.2252318007324505, -0.19511801736899154])\n",
       " (3.2642438650872734, 918.093026771518, 0.7218399514595177, [1.5032530044004726, 1.7902965548232643, 0.1121267798909048, 0.5941519164658838, 1.2035842603548963, 1.2285626596179544, 0.141362670689854])\n",
       " (0.2653162722246788, 6048.637617437248, 0.7473704207332882, [1.3083373188077747, -0.26779957551693656, 1.6587972282120003, 0.07473758482057846, 0.7343336518998826, 0.9648916968014642, 0.822953731961672])\n",
       " (0.24649564301969026, 2541.869196051395, 0.729310630873845, [1.0147184556869377, 0.6847739130691735, 0.9803836338310661, 0.9620879349764588, 1.235683144905137, -0.2399270240143644, -0.298479952255688])\n",
       " (0.19078776118407972, 182.99775821454284, 0.7305852711666928, [1.4467032007558118, 1.1246652633730898, 0.8831101711996932, 0.3945003710081487, 0.5668551973904198, 0.5680960824810971, 0.789641233876817])\n",
       " (13.155773773720988, 60.5778583390635, 0.7313631712608047, [3.1009934832732373, 1.2532205086932577, 1.0342467569693174, 0.557823638400607, 0.9475973581991015, 1.4771357344569604, -0.0923981540128756])\n",
       " (0.8939615256663785, 1.7153190277745793, 0.7644382513410383, [0.9849475095012851, 1.2792459538850343, 0.5317303734471961, 0.3171134196190229, 1.6211519377599504, -0.29918016365252237, -0.7335152192591881])\n",
       " (143.75422500100228, 2286.597479054667, 0.7982884094105896, [-0.12101980820783698, 0.6576139430273725, 0.1256079181673576, 1.0047777554718758, -0.20198557802140815, -0.9422020762254029, -0.037221148173251895])\n",
       " (88.82663172442436, 51.419119166921625, 0.6749429841815928, [0.9223455697359597, 0.4494941821008909, 0.3034005821080962, 0.6229531206963029, 0.4829677345592291, -0.0835619158118101, 0.3559318656295649])\n",
       " ⋮\n",
       " (44.7841913946369, 928.1416286938774, 0.7053073800969674, [1.38439281423012, 0.4672964004184328, -0.5004219568091355, -0.418305304690369, -0.11888506861996895, 0.9884242623359722, 1.5337286875941634])\n",
       " (105.11973459374299, 3303.1381289998694, 0.8231243773072136, [0.49411712034544153, 0.560191300908778, -0.6151733462778737, -0.6702852168234141, 0.2313632250213417, 2.2155911288298817, -1.2793013721418327])\n",
       " (21.03048695683932, 27727.66981013047, 0.8055744621530668, [0.5230155496163145, 0.30106804844211554, 0.4477931604046293, 1.1347649751122413, 1.3148536956607244, 0.889925175124487, 0.4979306357869784])\n",
       " (27.004986660553616, 329.3977292974182, 0.8697117019782622, [0.34883488256079154, 0.9564326576705748, 0.6244965382809763, 1.359485135961443, -0.485138507299129, -0.8594777775198197, 0.14088138066507205])\n",
       " (1.926655340251288, 398.63785191034805, 0.854800209243692, [1.554617611854726, 1.7639371753403643, -0.16589183851738298, 0.5474600872536775, 1.3913234290416412, -0.9315487103492235, 0.15308573136967293])\n",
       " (0.03671117866972618, 1086.1041178910064, 0.7945542068124457, [1.092745198849804, 2.4486652042833796, 0.49665404619458264, 1.1660063024811298, -0.6835093244863342, -0.35619383451829784, 0.907460298276942])\n",
       " (0.05143343654733832, 3161.2085602806883, 0.7954985777814741, [1.9131507313052893, 0.0999063193370976, 0.7613282345522957, 1.3419994952476915, 0.5927547003764895, 1.3954114544878777, 0.2533472727194396])\n",
       " (0.9434263246644843, 220.66167178791525, 0.6446858360669362, [2.045537925518828, 0.9321551033201535, 0.7776831586545294, -0.8654812113355776, 0.2408551998798384, 0.464358821661338, 0.11029808610430383])\n",
       " (0.023626582195236966, 374.7877708870302, 0.6260798589702595, [0.6221275758733047, 1.000855729817284, 0.937311573857601, 0.40511659437779396, 0.8275183415897669, -0.18400509971057671, 0.8699823832671612])\n",
       " (1.5340487312237563, 19780.058010399902, 0.6580326967189893, [0.7760323147536115, 1.2465142722126141, 0.040046468766178234, 0.6309365449841245, 0.7885245544978533, -0.007016879577605439, -0.8454398674161153])\n",
       " (124.31173830955525, 211905.71553375619, 0.7642766469591462, [-0.05284016685987414, 0.908142772080636, 1.232167525944468, 0.49685784892510515, 0.4099446279984223, 1.9007224537634269, -0.6677668217902571])\n",
       " (744.1469335783215, 21688.646180642743, 0.7363914351463772, [1.2912108863474192, 0.2253141696342209, 1.3044026184529867, 1.4325575175196414, 0.7196232574132473, -0.5182355782523504, 0.31796946014790267])"
      ]
     },
     "execution_count": 37,
     "metadata": {},
     "output_type": "execute_result"
    }
   ],
   "source": [
    "gen"
   ]
  },
  {
   "cell_type": "code",
   "execution_count": null,
   "id": "9a40c8fc",
   "metadata": {},
   "outputs": [],
   "source": []
  }
 ],
 "metadata": {
  "kernelspec": {
   "display_name": "Julia 1.8.0-rc1",
   "language": "julia",
   "name": "julia-1.8"
  },
  "language_info": {
   "file_extension": ".jl",
   "mimetype": "application/julia",
   "name": "julia",
   "version": "1.8.0"
  }
 },
 "nbformat": 4,
 "nbformat_minor": 5
}
