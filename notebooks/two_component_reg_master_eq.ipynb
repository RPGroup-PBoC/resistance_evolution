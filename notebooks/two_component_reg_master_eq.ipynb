{
 "cells": [
  {
   "cell_type": "markdown",
   "id": "9338c9c0-48cc-479d-b3f4-0b0b50dc95e8",
   "metadata": {},
   "source": [
    "# Master Equation for two component system"
   ]
  },
  {
   "cell_type": "markdown",
   "id": "ddf44a1d-b2bc-44e9-b9ab-e4027cda41d8",
   "metadata": {},
   "source": [
    "\n",
    "| Variable | Description |\n",
    "| --- | --------- |\n",
    "| $m$ | reporter |\n",
    "| $R$ | regulator |\n",
    "| $R_P$ | phosporylated regulator |\n",
    "| $S$ | sensor |\n",
    "| $S_b$ | sensor bound to signaling molecule |\n"
   ]
  },
  {
   "cell_type": "markdown",
   "id": "c010a470-1e74-47d1-a9c6-b9a65d41788c",
   "metadata": {},
   "source": [
    "All rates in the system"
   ]
  },
  {
   "cell_type": "markdown",
   "id": "3fe363b1-250f-4d9e-985d-ee7779f2903d",
   "metadata": {},
   "source": [
    "\n",
    "| Parameters | Description |\n",
    "| ---------- | ----------- |\n",
    "| $\\beta_m^0$ | Maximum production rate of reporter |\n",
    "| $\\beta_R^0$ | Maximum production rate of regulator |\n",
    "| $\\beta_S^0$ | Maximum production rate of sensor |\n",
    "| $\\gamma_m^0$ | Degradation rate of reporter |\n",
    "| $\\gamma_R^0$ | Degradation rate of regulator |\n",
    "| $\\gamma_S^0$ | Degradation rate of sensor |\n",
    "| $k_{\\mathrm{on}, 0}^P$ | Binding rate of polymerases |\n",
    "| $P$ | number of polymerases |\n",
    "| $k_\\mathrm{off}^{P, 0}$ | Unbinding rate of polymerase in the absence of regulator bound |\n",
    "| $k_\\mathrm{off}^{P, R}$ | Unbinding rate of polymerase in the presence of regulator bound |\n",
    "| $k_\\mathrm{off}^{P, R_P}$ | Unbinding rate of polymerase in the presence of phosphorylated regulator bound |\n",
    "| $k_\\mathrm{on}^{R}$ | Binding rate of regulator |\n",
    "| $k_\\mathrm{on}^{R_p}$ | Binding rate of phosphorylated regulator |\n",
    "| $k_\\mathrm{off}^R$ | Unbinding rate of regulator |\n",
    "| $k_\\mathrm{off}^{R_p}$ | Unbinding rate of phosphorylated regulator |\n",
    "| $k_\\mathrm{p}^{0}$ | Phosphorylation rate of unbound sensor |\n",
    "| $k_\\mathrm{p}^{b}$ | Phosphorylation rate of bound sensor |\n",
    "| $k_\\mathrm{dp}^{0}$ | Dephosphorylation rate of unbound sensor |\n",
    "| $k_\\mathrm{dp}^{b}$ | Dephosphorylation rate of bound sensor |"
   ]
  },
  {
   "cell_type": "code",
   "execution_count": 2,
   "id": "1c3ab500-f38e-4098-b678-05b349a7d0df",
   "metadata": {},
   "outputs": [
    {
     "data": {
      "text/plain": [
       "params"
      ]
     },
     "execution_count": 2,
     "metadata": {},
     "output_type": "execute_result"
    }
   ],
   "source": [
    "struct params\n",
    "    k_on_p::Real\n",
    "    P::Int\n",
    "    k_off_P_0::Real\n",
    "    k_off_P_R::Real\n",
    "    k_off_P_RP::Real\n",
    "    k_on_R::Real\n",
    "    k_on_RP::Real\n",
    "    k_off_R::Real\n",
    "    k_off_RP::Real\n",
    "    k_p_0::Real\n",
    "    k_p_b::Real\n",
    "    k_dp_0::Real\n",
    "    k_dp_b::Real\n",
    "end\n",
    "\n",
    "params(;\n",
    "    k_on_p=0, \n",
    "    P=0, \n",
    "    k_off_P_0=0, \n",
    "    k_off_P_R=0, \n",
    "    k_off_P_RP=0,\n",
    "    k_on_R=0,\n",
    "    k_on_RP=0,\n",
    "    k_off_R=0,\n",
    "    k_off_RP=0,\n",
    "    k_p_0=0,\n",
    "    k_p_b=0,\n",
    "    k_dp_0=0,\n",
    "    k_dp_b=0\n",
    "    ) = params(\n",
    "    k_on_p, \n",
    "    P, \n",
    "    k_off_P_0, \n",
    "    k_off_P_R, \n",
    "    k_off_P_RP,\n",
    "    k_on_R,\n",
    "    k_on_RP,\n",
    "    k_off_R,\n",
    "    k_off_RP,\n",
    "    k_p_0,\n",
    "    k_p_b,\n",
    "    k_dp_0,\n",
    "    k_dp_b)"
   ]
  },
  {
   "cell_type": "code",
   "execution_count": 3,
   "id": "171a902b-bec1-4413-b6af-f82ddea5f6d0",
   "metadata": {},
   "outputs": [
    {
     "data": {
      "text/plain": [
       "k_off_P (generic function with 1 method)"
      ]
     },
     "execution_count": 3,
     "metadata": {},
     "output_type": "execute_result"
    }
   ],
   "source": [
    "k_off_P(p::params, R, Rp) = (p.k_off_0 + R * p.k_on_R * p.k_off_P_R / p.k_off_R + Rp * p.k_on_Rp * k_off_P_RP / k_off_RP) / \n",
    "(1 + k_on_R / k_off_R + k_on_RP / k_off_RP)"
   ]
  },
  {
   "cell_type": "code",
   "execution_count": 14,
   "id": "b4c46734-f82a-4ef3-84aa-0c79e6fba05d",
   "metadata": {},
   "outputs": [],
   "source": [
    "prob_mat = zeros(100, 100, 100, 100, 100);"
   ]
  },
  {
   "cell_type": "code",
   "execution_count": 6,
   "id": "370bfefb-6fed-416c-8e3c-be65d1694ba1",
   "metadata": {},
   "outputs": [
    {
     "data": {
      "text/plain": [
       "1000000"
      ]
     },
     "execution_count": 6,
     "metadata": {},
     "output_type": "execute_result"
    }
   ],
   "source": []
  },
  {
   "cell_type": "code",
   "execution_count": null,
   "id": "70f7486a-eba7-4220-9b4f-9dda269c0cbf",
   "metadata": {},
   "outputs": [],
   "source": []
  }
 ],
 "metadata": {
  "kernelspec": {
   "display_name": "Julia 1.8.0-rc1",
   "language": "julia",
   "name": "julia-1.8"
  },
  "language_info": {
   "file_extension": ".jl",
   "mimetype": "application/julia",
   "name": "julia",
   "version": "1.8.0"
  }
 },
 "nbformat": 4,
 "nbformat_minor": 5
}
